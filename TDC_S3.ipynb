{
  "nbformat": 4,
  "nbformat_minor": 0,
  "metadata": {
    "colab": {
      "name": "TDC_S3.ipynb",
      "provenance": [],
      "collapsed_sections": []
    },
    "kernelspec": {
      "name": "python3",
      "display_name": "Python 3"
    }
  },
  "cells": [
    {
      "cell_type": "markdown",
      "metadata": {
        "id": "5Pc78LPONwN6",
        "colab_type": "text"
      },
      "source": [
        "Ejercicio de lenguajes Regulares y Automatas\n"
      ]
    },
    {
      "cell_type": "code",
      "metadata": {
        "id": "Q1Pq2BDTR_gR",
        "colab_type": "code",
        "colab": {}
      },
      "source": [
        "import networkx as nx\n",
        "\n",
        "Grafo = nx.MultiDiGraph()\n",
        "Grafo.add_node(\"Q0\")     \n",
        "Grafo.add_node(\"Q1\")\n",
        "Grafo.add_node(\"Q2\")\n",
        "\n",
        "Grafo.add_edge(\"Q0\",\"Q1\", element = \"a\" )\n",
        "Grafo.add_edge(\"Q1\",\"Q2\", element = \"b\")\n",
        "\n",
        "print(\"Nodes of graph: \")\n",
        "print(Grafo.nodes())\n",
        "print(\"Edges of graph: \")\n",
        "print(Grafo.edges())\n",
        "print(Grafo.get_edge_data(\"Q0\",\"Q1\"))\n",
        "print(Grafo.get_edge_data(\"Q1\",\"Q2\"))\n",
        "nx.draw(Grafo , with_labels=True)"
      ],
      "execution_count": null,
      "outputs": []
    },
    {
      "cell_type": "markdown",
      "metadata": {
        "id": "flZDqrZ5eeCq",
        "colab_type": "text"
      },
      "source": [
        "Ejercicio A"
      ]
    },
    {
      "cell_type": "code",
      "metadata": {
        "id": "BfyRuLMTeXhy",
        "colab_type": "code",
        "colab": {}
      },
      "source": [
        "import networkx as nx\n",
        "\n",
        "G = nx.MultiDiGraph()\n",
        "G.add_node(\"Q0\")\n",
        "G.add_node(\"Q1\")\n",
        "G.add_node(\"Q2\")\n",
        "\n",
        "G.add_edge(\"Q0\",\"Q1\",weight=1) #B\n",
        "G.add_edge(\"Q1\",\"Q1\",weight=7) #B\n",
        "G.add_edge(\"Q1\",\"Q2\",weight=3) #A\n",
        "G.add_edge(\"Q2\",\"Q1\",weight=4) #B\n",
        "\n",
        "print(\"Nodes of graph: \")\n",
        "print(G.nodes())\n",
        "print(\"Edges of graph: \")\n",
        "print(G.edges())\n",
        "\n",
        "print(\"Weight:\")\n",
        "print(\"Q0-Q1 {relacion b}\" ,\n",
        "      G.get_edge_data(\"Q0\",\"Q1\"))\n",
        "print(\"Q1-Q1 {relacion b}\" ,\n",
        "    G.get_edge_data(\"Q1\",\"Q1\"))\n",
        "print(\"Q1-Q2 {relacion a}\" ,\n",
        "      G.get_edge_data(\"Q1\",\"Q2\"))\n",
        "print(\"Q2-Q1 {relacion b}\" ,\n",
        "    G.get_edge_data(\"Q2\",\"Q1\"))\n",
        "\n",
        "nx.draw(G, with_labels=True, node_size=1000)"
      ],
      "execution_count": null,
      "outputs": []
    },
    {
      "cell_type": "markdown",
      "metadata": {
        "id": "HpjbUujaegyI",
        "colab_type": "text"
      },
      "source": [
        "Ejercicio B\n"
      ]
    },
    {
      "cell_type": "code",
      "metadata": {
        "id": "MR-mf6SxegMy",
        "colab_type": "code",
        "colab": {}
      },
      "source": [
        "import networkx as nx\n",
        "\n",
        "G = nx.MultiDiGraph()\n",
        "G.add_node(\"Q0\")\n",
        "G.add_node(\"Q1\")\n",
        "G.add_node(\"Q2\")\n",
        "G.add_node(\"Q3\")\n",
        "G.add_node(\"Q4\")\n",
        "\n",
        "G.add_edge(\"Q0\",\"Q0\",weight=1) #B\n",
        "G.add_edge(\"Q0\",\"Q1\",weight=7) #A\n",
        "G.add_edge(\"Q1\",\"Q1\",weight=3) #A\n",
        "G.add_edge(\"Q1\",\"Q2\",weight=4) #B\n",
        "G.add_edge(\"Q2\",\"Q1\",weight=1) #A\n",
        "G.add_edge(\"Q2\",\"Q0\",weight=7) #B\n",
        "G.add_edge(\"Q2\",\"Q3\",weight=3) #A\n",
        "G.add_edge(\"Q3\",\"Q1\",weight=4) #A\n",
        "G.add_edge(\"Q3\",\"Q4\",weight=3) #B\n",
        "G.add_edge(\"Q4\",\"Q4\",weight=4) #A\n",
        "G.add_edge(\"Q4\",\"Q4\",weight=5) #B\n",
        "\n",
        "print(\"Nodes of graph: \")\n",
        "print(G.nodes())\n",
        "print(\"Edges of graph: \")\n",
        "print(G.edges())\n",
        "\n",
        "print(\"Weight:\")\n",
        "print(\"Q0-Q0 {relacion b}\" ,\n",
        "      G.get_edge_data(\"Q0\",\"Q0\"))\n",
        "print(\"Q0-Q1 {relacion a}\" ,\n",
        "    G.get_edge_data(\"Q0\",\"Q1\"))\n",
        "print(\"Q1-Q1 {relacion a}\" ,\n",
        "      G.get_edge_data(\"Q1\",\"Q1\"))\n",
        "print(\"Q1-Q2 {relacion b}\" ,\n",
        "    G.get_edge_data(\"Q1\",\"Q2\"))\n",
        "print(\"Q2-Q1 {relacion a}\" ,\n",
        "      G.get_edge_data(\"Q2\",\"Q1\"))\n",
        "print(\"Q2-Q0 {relacion b}\" ,\n",
        "    G.get_edge_data(\"Q2\",\"Q0\"))\n",
        "print(\"Q2-Q3 {relacion a}\" ,\n",
        "      G.get_edge_data(\"Q2\",\"Q3\"))\n",
        "print(\"Q3-Q1 {relacion a}\" ,\n",
        "    G.get_edge_data(\"Q3\",\"Q1\"))\n",
        "print(\"Q3-Q4 {relacion b}\" ,\n",
        "      G.get_edge_data(\"Q3\",\"Q4\"))\n",
        "print(\"Q4-Q4 {relacion a}\" ,\n",
        "    G.get_edge_data(\"Q4\",\"Q4\"))\n",
        "print(\"Q4-Q4 {relacion b}\" ,\n",
        "      G.get_edge_data(\"Q4\",\"Q4\"))\n",
        "\n",
        "nx.draw(G, with_labels=True)"
      ],
      "execution_count": null,
      "outputs": []
    },
    {
      "cell_type": "markdown",
      "metadata": {
        "id": "Y7r9GC0VOq4v",
        "colab_type": "text"
      },
      "source": [
        "Automata  M = (Q , E , s , F , S)\n",
        "\n",
        "Donde :\n",
        "\n",
        "E alfabeto\n",
        "Q Coleccion finita de estados\n",
        "\n",
        "s Estado Inicial\n",
        "\n",
        "F collecion de estados finales o de aceptacion\n",
        "\n",
        "S Q X E -> Q determina el siguiente estado para (qi , d)"
      ]
    },
    {
      "cell_type": "markdown",
      "metadata": {
        "id": "JM6um62TQ7at",
        "colab_type": "text"
      },
      "source": [
        "EJEMPLO \n",
        "\n",
        "Q = { q0 , q1 , q2 }\n",
        "\n",
        "E = { a , b }\n",
        "\n",
        "s = { q0 }\n",
        "\n",
        "F = { q0 }\n",
        "\n",
        "TABLA \n",
        "\n",
        "| S --|- a -|-- b |\n",
        "\n",
        "| q0 | q1 | q2 |\n",
        "\n",
        "| q1 | q2 | q0 |\n",
        "\n",
        "| q2 | q2 | q2 |\n",
        "\n",
        "|- - - - - - - - - - -|\n",
        "\n",
        "\n",
        "\n"
      ]
    },
    {
      "cell_type": "code",
      "metadata": {
        "id": "nzLBaG_yOrWO",
        "colab_type": "code",
        "colab": {
          "base_uri": "https://localhost:8080/",
          "height": 404
        },
        "outputId": "ae19d37f-abab-4642-a04d-07bb01752f80"
      },
      "source": [
        "print(\"D I A G R A M A  D E  T R A N S I C I O N E S \")\n",
        "\n",
        "import networkx as nx\n",
        "\n",
        "Grafo = nx.MultiDiGraph()\n",
        "Grafo.add_node(\"Q0\")     \n",
        "Grafo.add_node(\"Q1\")\n",
        "Grafo.add_node(\"Q2\")\n",
        "\n",
        "Grafo.add_edge(\"Q0\",\"Q1\", element = \"a\")\n",
        "Grafo.add_edge(\"Q0\",\"Q2\", element = \"b\")\n",
        "\n",
        "Grafo.add_edge(\"Q1\",\"Q2\", element = \"a\")\n",
        "Grafo.add_edge(\"Q1\",\"Q0\", element = \"b\")\n",
        "\n",
        "Grafo.add_edge(\"Q2\",\"Q2\", element = \"a\")\n",
        "Grafo.add_edge(\"Q2\",\"Q2\", element = \"b\")\n",
        "\n",
        "print(\"Nodes of graph: \")\n",
        "print(Grafo.nodes())\n",
        "print(\"Edges of graph: \")\n",
        "print(Grafo.edges())\n",
        "nx.draw(Grafo , with_labels=True)"
      ],
      "execution_count": 3,
      "outputs": [
        {
          "output_type": "stream",
          "text": [
            "D I A G R A M A  D E  T R A N S I C I O N E S \n",
            "Nodes of graph: \n",
            "['Q0', 'Q1', 'Q2']\n",
            "Edges of graph: \n",
            "[('Q0', 'Q1'), ('Q0', 'Q2'), ('Q1', 'Q2'), ('Q1', 'Q0'), ('Q2', 'Q2'), ('Q2', 'Q2')]\n"
          ],
          "name": "stdout"
        },
        {
          "output_type": "display_data",
          "data": {
            "image/png": "[encoded data removed]",
            "text/plain": [
              "<Figure size 432x288 with 1 Axes>"
            ]
          },
          "metadata": {
            "tags": []
          }
        }
      ]
    },
    {
      "cell_type": "markdown",
      "metadata": {
        "id": "9C7ShUEhUNNR",
        "colab_type": "text"
      },
      "source": [
        "Lenguajes Regulares\n",
        "\n",
        "  null es un lenguaje regular \n",
        "\n",
        "  E es un lenguaje regular\n",
        "\n",
        "  Si A y B son lenguajes regunlares \n",
        "\n",
        "          AuB \n",
        "          A*B\n",
        "          A*\n",
        "        \n",
        "  Son Lenguajes regulares\n",
        "\n",
        "  Las expresiones Regulares son representaciones algebraicas de los lenguajes regulares\n",
        "\n",
        "  Si r y s son  expresiones regulares que generan LR(Lenguaje Regular) M y N respectivamente "
      ]
    },
    {
      "cell_type": "markdown",
      "metadata": {
        "id": "P1KP471hSSso",
        "colab_type": "text"
      },
      "source": [
        "Funcion para evaluar  DFA"
      ]
    },
    {
      "cell_type": "code",
      "metadata": {
        "id": "RVKTqe3ao9mW",
        "colab_type": "code",
        "colab": {}
      },
      "source": [
        "def dfa_evaluate(alphabet, states, initial_state, accepting_states, transitions, str_test):\n",
        "  current_state = initial_state\n",
        "  \n",
        "  transition_exists = True\n",
        "\n",
        "  for char_index in range(len(str_test)):\n",
        "    current_char = str_test[char_index]\n",
        "    \n",
        "    if ((current_state, current_char) not in transitions):\n",
        "      transition_exists = False\n",
        "      break\n",
        "    next_state = transitions[(current_state, current_char)] \n",
        "    print (current_state, current_char, next_state)\n",
        "    current_state = next_state\n",
        "\n",
        "  if transition_exists and current_state in accepting_states:\n",
        "    print (\"Pertenece a L(M)\")\n",
        "  else: \n",
        "    print (\"No pertenece a L(M)\")\n",
        "\n",
        "\n",
        "#debe contener la subcadena 01\n",
        "dfa = {\n",
        "    'alphabet': {'0', '1'},\n",
        "    'states': {'q0', 'q1'},\n",
        "    'initial_state': 'q0',\n",
        "    'accepting_states': {'q1'},\n",
        "    'transitions': {\n",
        "        ('q0', '1'): 'q1',\n",
        "        ('q1', '0'): 'q1',\n",
        "        ('q1', '1'): 'q1'\n",
        "    }\n",
        "}\n",
        "\n",
        "alphabet = dfa['alphabet']\n",
        "states = dfa['states']\n",
        "initial_state = dfa['initial_state']\n",
        "accepting_states = dfa['accepting_states']\n",
        "transitions = dfa['transitions']\n",
        "\n",
        "str_test = \"1011010101\"\n",
        "\n",
        "dfa_evaluate(alphabet, states, initial_state, accepting_states, transitions, str_test)"
      ],
      "execution_count": null,
      "outputs": []
    },
    {
      "cell_type": "markdown",
      "metadata": {
        "id": "Dm9ZVbP_envN",
        "colab_type": "text"
      },
      "source": [
        "DFA\n",
        "(deterministico)\n",
        "\n",
        "Lleva epsilon, no puede tener loop en el estado inicial, si tambien es estado final. ya que si es DFA solo puede salir una (linea,transicion,edge) de ella (estado inicial).\n",
        "\n",
        "NFA\n",
        "(no deterministico)\n",
        "\n",
        "Permite mas de una (transicion, linea)\n",
        "\n",
        "Transicion ejemplo:\n",
        "\n",
        "{q1,'b'} - {q0,q2}"
      ]
    }
  ]
}